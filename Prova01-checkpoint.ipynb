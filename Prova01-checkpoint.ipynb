{
 "cells": [
  {
   "cell_type": "code",
   "execution_count": 5,
   "id": "5d1b68e1-ec8b-4d6b-8616-e01ba01a14fc",
   "metadata": {},
   "outputs": [
    {
     "name": "stdin",
     "output_type": "stream",
     "text": [
      "Digite um valor inteiro 4\n",
      "Digite um valor inteiro 4\n",
      "Digite um valor inteiro 4\n"
     ]
    },
    {
     "name": "stdout",
     "output_type": "stream",
     "text": [
      "Essa é a média aritmética dos valores: 4.0\n"
     ]
    }
   ],
   "source": [
    "#questão 6\n",
    "n1 = int(input(\"Digite um valor inteiro\"))\n",
    "n2 = int(input(\"Digite um valor inteiro\"))\n",
    "n3 = int(input(\"Digite um valor inteiro\"))\n",
    "soma = n1 + n2 + n3\n",
    "if soma >= 0:\n",
    "    media = soma / 3\n",
    "print(\"Essa é a média aritmética dos valores:\", media)\n"
   ]
  },
  {
   "cell_type": "code",
   "execution_count": null,
   "id": "af85663b-be41-469a-b508-a7f936f1cc24",
   "metadata": {},
   "outputs": [],
   "source": []
  }
 ],
 "metadata": {
  "kernelspec": {
   "display_name": "Python [conda env:base] *",
   "language": "python",
   "name": "conda-base-py"
  },
  "language_info": {
   "codemirror_mode": {
    "name": "ipython",
    "version": 3
   },
   "file_extension": ".py",
   "mimetype": "text/x-python",
   "name": "python",
   "nbconvert_exporter": "python",
   "pygments_lexer": "ipython3",
   "version": "3.12.7"
  }
 },
 "nbformat": 4,
 "nbformat_minor": 5
}
